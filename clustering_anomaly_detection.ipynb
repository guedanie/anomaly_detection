{
 "cells": [
  {
   "cell_type": "markdown",
   "metadata": {},
   "source": [
    "# Clustering Anomaly Detection\n",
    "\n",
    "## Exercises\n",
    "\n",
    "### Ideas:\n",
    "* Use DBSCAN to detect anomalies in curriculumn access.\n",
    "* Use DBSCAN to detect anomalies in other products from the customers dataset.\n",
    "* Use DBSCAN to detect anomalies in number of bedrooms and finished square feet of property for the filtered dataset you used in the clustering project (single unit properties with a logerror)."
   ]
  },
  {
   "cell_type": "markdown",
   "metadata": {},
   "source": [
    "## Anomaly Dectection In Access Logs"
   ]
  },
  {
   "cell_type": "code",
   "execution_count": 1,
   "metadata": {},
   "outputs": [],
   "source": [
    "from __future__ import division\n",
    "import itertools\n",
    "import warnings\n",
    "warnings.filterwarnings(\"ignore\")\n",
    "import matplotlib.pyplot as plt\n",
    "import matplotlib.dates as mdates\n",
    "import numpy as np\n",
    "import pandas as pd\n",
    "import math\n",
    "from sklearn import metrics\n",
    "from random import randint\n",
    "from matplotlib import style\n",
    "import seaborn as sns\n",
    "\n",
    "import functions\n",
    "\n",
    "from sklearn.cluster import DBSCAN\n",
    "from sklearn.preprocessing import MinMaxScaler"
   ]
  },
  {
   "cell_type": "code",
   "execution_count": 2,
   "metadata": {},
   "outputs": [],
   "source": [
    "logs = functions.wrangle_access_logs()"
   ]
  },
  {
   "cell_type": "code",
   "execution_count": 3,
   "metadata": {},
   "outputs": [],
   "source": [
    "# Lets look for outliers when looking at total number of pages, and unqiue count of pages\n",
    "\n",
    "page_views = logs.groupby([\"user_id\"]).destination.agg([\"count\", \"nunique\"])"
   ]
  },
  {
   "cell_type": "code",
   "execution_count": 4,
   "metadata": {},
   "outputs": [],
   "source": [
    "scaler = MinMaxScaler().fit(page_views)\n",
    "page_views_scaled_array = scaler.transform(page_views)"
   ]
  },
  {
   "cell_type": "code",
   "execution_count": 5,
   "metadata": {},
   "outputs": [],
   "source": [
    "dbsc = DBSCAN(eps = .10, min_samples = 20).fit(page_views_scaled_array)"
   ]
  },
  {
   "cell_type": "code",
   "execution_count": 6,
   "metadata": {},
   "outputs": [
    {
     "data": {
      "text/plain": [
       "['scaled_count', 'scaled_nunique']"
      ]
     },
     "execution_count": 6,
     "metadata": {},
     "output_type": "execute_result"
    }
   ],
   "source": [
    "# Now, let's add the scaled value columns back onto the dataframe\n",
    "columns = list(page_views.columns)\n",
    "scaled_columns = [\"scaled_\" + column for column in columns]\n",
    "scaled_columns"
   ]
  },
  {
   "cell_type": "code",
   "execution_count": 7,
   "metadata": {},
   "outputs": [
    {
     "data": {
      "text/html": [
       "<div>\n",
       "<style scoped>\n",
       "    .dataframe tbody tr th:only-of-type {\n",
       "        vertical-align: middle;\n",
       "    }\n",
       "\n",
       "    .dataframe tbody tr th {\n",
       "        vertical-align: top;\n",
       "    }\n",
       "\n",
       "    .dataframe thead th {\n",
       "        text-align: right;\n",
       "    }\n",
       "</style>\n",
       "<table border=\"1\" class=\"dataframe\">\n",
       "  <thead>\n",
       "    <tr style=\"text-align: right;\">\n",
       "      <th></th>\n",
       "      <th>scaled_count</th>\n",
       "      <th>scaled_nunique</th>\n",
       "    </tr>\n",
       "  </thead>\n",
       "  <tbody>\n",
       "    <tr>\n",
       "      <th>0</th>\n",
       "      <td>0.491323</td>\n",
       "      <td>1.000000</td>\n",
       "    </tr>\n",
       "    <tr>\n",
       "      <th>1</th>\n",
       "      <td>0.139190</td>\n",
       "      <td>0.183374</td>\n",
       "    </tr>\n",
       "    <tr>\n",
       "      <th>2</th>\n",
       "      <td>0.141088</td>\n",
       "      <td>0.205379</td>\n",
       "    </tr>\n",
       "    <tr>\n",
       "      <th>3</th>\n",
       "      <td>0.062455</td>\n",
       "      <td>0.173594</td>\n",
       "    </tr>\n",
       "    <tr>\n",
       "      <th>4</th>\n",
       "      <td>0.153651</td>\n",
       "      <td>0.239609</td>\n",
       "    </tr>\n",
       "    <tr>\n",
       "      <th>...</th>\n",
       "      <td>...</td>\n",
       "      <td>...</td>\n",
       "    </tr>\n",
       "    <tr>\n",
       "      <th>645</th>\n",
       "      <td>0.003615</td>\n",
       "      <td>0.026895</td>\n",
       "    </tr>\n",
       "    <tr>\n",
       "      <th>646</th>\n",
       "      <td>0.000813</td>\n",
       "      <td>0.006112</td>\n",
       "    </tr>\n",
       "    <tr>\n",
       "      <th>647</th>\n",
       "      <td>0.044017</td>\n",
       "      <td>0.157702</td>\n",
       "    </tr>\n",
       "    <tr>\n",
       "      <th>648</th>\n",
       "      <td>0.000000</td>\n",
       "      <td>0.000000</td>\n",
       "    </tr>\n",
       "    <tr>\n",
       "      <th>649</th>\n",
       "      <td>0.000090</td>\n",
       "      <td>0.001222</td>\n",
       "    </tr>\n",
       "  </tbody>\n",
       "</table>\n",
       "<p>650 rows × 2 columns</p>\n",
       "</div>"
      ],
      "text/plain": [
       "     scaled_count  scaled_nunique\n",
       "0        0.491323        1.000000\n",
       "1        0.139190        0.183374\n",
       "2        0.141088        0.205379\n",
       "3        0.062455        0.173594\n",
       "4        0.153651        0.239609\n",
       "..            ...             ...\n",
       "645      0.003615        0.026895\n",
       "646      0.000813        0.006112\n",
       "647      0.044017        0.157702\n",
       "648      0.000000        0.000000\n",
       "649      0.000090        0.001222\n",
       "\n",
       "[650 rows x 2 columns]"
      ]
     },
     "execution_count": 7,
     "metadata": {},
     "output_type": "execute_result"
    }
   ],
   "source": [
    "# Create a dataframe containing the scaled values\n",
    "scaled_df = pd.DataFrame(page_views_scaled_array, columns=scaled_columns)\n",
    "scaled_df"
   ]
  },
  {
   "cell_type": "code",
   "execution_count": 8,
   "metadata": {
    "scrolled": true
   },
   "outputs": [
    {
     "data": {
      "text/html": [
       "<div>\n",
       "<style scoped>\n",
       "    .dataframe tbody tr th:only-of-type {\n",
       "        vertical-align: middle;\n",
       "    }\n",
       "\n",
       "    .dataframe tbody tr th {\n",
       "        vertical-align: top;\n",
       "    }\n",
       "\n",
       "    .dataframe thead th {\n",
       "        text-align: right;\n",
       "    }\n",
       "</style>\n",
       "<table border=\"1\" class=\"dataframe\">\n",
       "  <thead>\n",
       "    <tr style=\"text-align: right;\">\n",
       "      <th></th>\n",
       "      <th>key_0</th>\n",
       "      <th>count</th>\n",
       "      <th>nunique</th>\n",
       "      <th>scaled_count</th>\n",
       "      <th>scaled_nunique</th>\n",
       "    </tr>\n",
       "  </thead>\n",
       "  <tbody>\n",
       "    <tr>\n",
       "      <th>0</th>\n",
       "      <td>1</td>\n",
       "      <td>5437</td>\n",
       "      <td>819</td>\n",
       "      <td>0.491323</td>\n",
       "      <td>1.000000</td>\n",
       "    </tr>\n",
       "    <tr>\n",
       "      <th>1</th>\n",
       "      <td>2</td>\n",
       "      <td>1541</td>\n",
       "      <td>151</td>\n",
       "      <td>0.139190</td>\n",
       "      <td>0.183374</td>\n",
       "    </tr>\n",
       "    <tr>\n",
       "      <th>2</th>\n",
       "      <td>3</td>\n",
       "      <td>1562</td>\n",
       "      <td>169</td>\n",
       "      <td>0.141088</td>\n",
       "      <td>0.205379</td>\n",
       "    </tr>\n",
       "    <tr>\n",
       "      <th>3</th>\n",
       "      <td>4</td>\n",
       "      <td>692</td>\n",
       "      <td>143</td>\n",
       "      <td>0.062455</td>\n",
       "      <td>0.173594</td>\n",
       "    </tr>\n",
       "    <tr>\n",
       "      <th>4</th>\n",
       "      <td>5</td>\n",
       "      <td>1701</td>\n",
       "      <td>197</td>\n",
       "      <td>0.153651</td>\n",
       "      <td>0.239609</td>\n",
       "    </tr>\n",
       "    <tr>\n",
       "      <th>...</th>\n",
       "      <td>...</td>\n",
       "      <td>...</td>\n",
       "      <td>...</td>\n",
       "      <td>...</td>\n",
       "      <td>...</td>\n",
       "    </tr>\n",
       "    <tr>\n",
       "      <th>645</th>\n",
       "      <td>646</td>\n",
       "      <td>41</td>\n",
       "      <td>23</td>\n",
       "      <td>0.003615</td>\n",
       "      <td>0.026895</td>\n",
       "    </tr>\n",
       "    <tr>\n",
       "      <th>646</th>\n",
       "      <td>647</td>\n",
       "      <td>10</td>\n",
       "      <td>6</td>\n",
       "      <td>0.000813</td>\n",
       "      <td>0.006112</td>\n",
       "    </tr>\n",
       "    <tr>\n",
       "      <th>647</th>\n",
       "      <td>648</td>\n",
       "      <td>488</td>\n",
       "      <td>130</td>\n",
       "      <td>0.044017</td>\n",
       "      <td>0.157702</td>\n",
       "    </tr>\n",
       "    <tr>\n",
       "      <th>648</th>\n",
       "      <td>649</td>\n",
       "      <td>1</td>\n",
       "      <td>1</td>\n",
       "      <td>0.000000</td>\n",
       "      <td>0.000000</td>\n",
       "    </tr>\n",
       "    <tr>\n",
       "      <th>649</th>\n",
       "      <td>650</td>\n",
       "      <td>2</td>\n",
       "      <td>2</td>\n",
       "      <td>0.000090</td>\n",
       "      <td>0.001222</td>\n",
       "    </tr>\n",
       "  </tbody>\n",
       "</table>\n",
       "<p>650 rows × 5 columns</p>\n",
       "</div>"
      ],
      "text/plain": [
       "     key_0  count  nunique  scaled_count  scaled_nunique\n",
       "0        1   5437      819      0.491323        1.000000\n",
       "1        2   1541      151      0.139190        0.183374\n",
       "2        3   1562      169      0.141088        0.205379\n",
       "3        4    692      143      0.062455        0.173594\n",
       "4        5   1701      197      0.153651        0.239609\n",
       "..     ...    ...      ...           ...             ...\n",
       "645    646     41       23      0.003615        0.026895\n",
       "646    647     10        6      0.000813        0.006112\n",
       "647    648    488      130      0.044017        0.157702\n",
       "648    649      1        1      0.000000        0.000000\n",
       "649    650      2        2      0.000090        0.001222\n",
       "\n",
       "[650 rows x 5 columns]"
      ]
     },
     "execution_count": 8,
     "metadata": {},
     "output_type": "execute_result"
    }
   ],
   "source": [
    "# Merge the scaled and non-scaled values into one dataframe\n",
    "page_views = page_views.merge(scaled_df, on=page_views.index)\n",
    "page_views"
   ]
  },
  {
   "cell_type": "code",
   "execution_count": 9,
   "metadata": {
    "scrolled": true
   },
   "outputs": [
    {
     "data": {
      "text/html": [
       "<div>\n",
       "<style scoped>\n",
       "    .dataframe tbody tr th:only-of-type {\n",
       "        vertical-align: middle;\n",
       "    }\n",
       "\n",
       "    .dataframe tbody tr th {\n",
       "        vertical-align: top;\n",
       "    }\n",
       "\n",
       "    .dataframe thead th {\n",
       "        text-align: right;\n",
       "    }\n",
       "</style>\n",
       "<table border=\"1\" class=\"dataframe\">\n",
       "  <thead>\n",
       "    <tr style=\"text-align: right;\">\n",
       "      <th></th>\n",
       "      <th>count</th>\n",
       "      <th>nunique</th>\n",
       "      <th>scaled_count</th>\n",
       "      <th>scaled_nunique</th>\n",
       "    </tr>\n",
       "  </thead>\n",
       "  <tbody>\n",
       "    <tr>\n",
       "      <th>0</th>\n",
       "      <td>5437</td>\n",
       "      <td>819</td>\n",
       "      <td>0.491323</td>\n",
       "      <td>1.000000</td>\n",
       "    </tr>\n",
       "    <tr>\n",
       "      <th>1</th>\n",
       "      <td>1541</td>\n",
       "      <td>151</td>\n",
       "      <td>0.139190</td>\n",
       "      <td>0.183374</td>\n",
       "    </tr>\n",
       "    <tr>\n",
       "      <th>2</th>\n",
       "      <td>1562</td>\n",
       "      <td>169</td>\n",
       "      <td>0.141088</td>\n",
       "      <td>0.205379</td>\n",
       "    </tr>\n",
       "    <tr>\n",
       "      <th>3</th>\n",
       "      <td>692</td>\n",
       "      <td>143</td>\n",
       "      <td>0.062455</td>\n",
       "      <td>0.173594</td>\n",
       "    </tr>\n",
       "    <tr>\n",
       "      <th>4</th>\n",
       "      <td>1701</td>\n",
       "      <td>197</td>\n",
       "      <td>0.153651</td>\n",
       "      <td>0.239609</td>\n",
       "    </tr>\n",
       "  </tbody>\n",
       "</table>\n",
       "</div>"
      ],
      "text/plain": [
       "   count  nunique  scaled_count  scaled_nunique\n",
       "0   5437      819      0.491323        1.000000\n",
       "1   1541      151      0.139190        0.183374\n",
       "2   1562      169      0.141088        0.205379\n",
       "3    692      143      0.062455        0.173594\n",
       "4   1701      197      0.153651        0.239609"
      ]
     },
     "execution_count": 9,
     "metadata": {},
     "output_type": "execute_result"
    }
   ],
   "source": [
    "page_views = page_views.drop(columns=['key_0'])\n",
    "page_views.head()"
   ]
  },
  {
   "cell_type": "markdown",
   "metadata": {},
   "source": [
    "Now we can look at our labels"
   ]
  },
  {
   "cell_type": "code",
   "execution_count": 10,
   "metadata": {},
   "outputs": [
    {
     "data": {
      "text/plain": [
       "array([-1,  0,  0,  0,  0,  0,  0,  0,  0,  0])"
      ]
     },
     "execution_count": 10,
     "metadata": {},
     "output_type": "execute_result"
    }
   ],
   "source": [
    "labels = dbsc.labels_\n",
    "labels[0:10]"
   ]
  },
  {
   "cell_type": "code",
   "execution_count": 11,
   "metadata": {},
   "outputs": [
    {
     "data": {
      "text/plain": [
       " 0    642\n",
       "-1      8\n",
       "Name: labels, dtype: int64"
      ]
     },
     "execution_count": 11,
     "metadata": {},
     "output_type": "execute_result"
    }
   ],
   "source": [
    "page_views['labels'] = labels\n",
    "page_views.labels.value_counts()"
   ]
  },
  {
   "cell_type": "code",
   "execution_count": 12,
   "metadata": {},
   "outputs": [
    {
     "data": {
      "text/html": [
       "<div>\n",
       "<style scoped>\n",
       "    .dataframe tbody tr th:only-of-type {\n",
       "        vertical-align: middle;\n",
       "    }\n",
       "\n",
       "    .dataframe tbody tr th {\n",
       "        vertical-align: top;\n",
       "    }\n",
       "\n",
       "    .dataframe thead th {\n",
       "        text-align: right;\n",
       "    }\n",
       "</style>\n",
       "<table border=\"1\" class=\"dataframe\">\n",
       "  <thead>\n",
       "    <tr style=\"text-align: right;\">\n",
       "      <th></th>\n",
       "      <th>count</th>\n",
       "      <th>nunique</th>\n",
       "      <th>scaled_count</th>\n",
       "      <th>scaled_nunique</th>\n",
       "      <th>labels</th>\n",
       "    </tr>\n",
       "  </thead>\n",
       "  <tbody>\n",
       "    <tr>\n",
       "      <th>0</th>\n",
       "      <td>5437</td>\n",
       "      <td>819</td>\n",
       "      <td>0.491323</td>\n",
       "      <td>1.000000</td>\n",
       "      <td>-1</td>\n",
       "    </tr>\n",
       "    <tr>\n",
       "      <th>10</th>\n",
       "      <td>11065</td>\n",
       "      <td>698</td>\n",
       "      <td>1.000000</td>\n",
       "      <td>0.852078</td>\n",
       "      <td>-1</td>\n",
       "    </tr>\n",
       "    <tr>\n",
       "      <th>52</th>\n",
       "      <td>9534</td>\n",
       "      <td>303</td>\n",
       "      <td>0.861623</td>\n",
       "      <td>0.369193</td>\n",
       "      <td>-1</td>\n",
       "    </tr>\n",
       "    <tr>\n",
       "      <th>63</th>\n",
       "      <td>10784</td>\n",
       "      <td>373</td>\n",
       "      <td>0.974602</td>\n",
       "      <td>0.454768</td>\n",
       "      <td>-1</td>\n",
       "    </tr>\n",
       "    <tr>\n",
       "      <th>247</th>\n",
       "      <td>2815</td>\n",
       "      <td>456</td>\n",
       "      <td>0.254338</td>\n",
       "      <td>0.556235</td>\n",
       "      <td>-1</td>\n",
       "    </tr>\n",
       "    <tr>\n",
       "      <th>313</th>\n",
       "      <td>4695</td>\n",
       "      <td>181</td>\n",
       "      <td>0.424259</td>\n",
       "      <td>0.220049</td>\n",
       "      <td>-1</td>\n",
       "    </tr>\n",
       "    <tr>\n",
       "      <th>343</th>\n",
       "      <td>5370</td>\n",
       "      <td>215</td>\n",
       "      <td>0.485268</td>\n",
       "      <td>0.261614</td>\n",
       "      <td>-1</td>\n",
       "    </tr>\n",
       "    <tr>\n",
       "      <th>403</th>\n",
       "      <td>1668</td>\n",
       "      <td>352</td>\n",
       "      <td>0.150669</td>\n",
       "      <td>0.429095</td>\n",
       "      <td>-1</td>\n",
       "    </tr>\n",
       "  </tbody>\n",
       "</table>\n",
       "</div>"
      ],
      "text/plain": [
       "     count  nunique  scaled_count  scaled_nunique  labels\n",
       "0     5437      819      0.491323        1.000000      -1\n",
       "10   11065      698      1.000000        0.852078      -1\n",
       "52    9534      303      0.861623        0.369193      -1\n",
       "63   10784      373      0.974602        0.454768      -1\n",
       "247   2815      456      0.254338        0.556235      -1\n",
       "313   4695      181      0.424259        0.220049      -1\n",
       "343   5370      215      0.485268        0.261614      -1\n",
       "403   1668      352      0.150669        0.429095      -1"
      ]
     },
     "execution_count": 12,
     "metadata": {},
     "output_type": "execute_result"
    }
   ],
   "source": [
    "page_views[page_views.labels==-1]"
   ]
  },
  {
   "cell_type": "code",
   "execution_count": 13,
   "metadata": {
    "scrolled": true
   },
   "outputs": [
    {
     "name": "stdout",
     "output_type": "stream",
     "text": [
      "Population\n",
      "              count     nunique  scaled_count  scaled_nunique      labels\n",
      "count    650.000000  650.000000    650.000000      650.000000  650.000000\n",
      "mean     836.300000  116.961538      0.075497        0.141762   -0.012308\n",
      "std      984.091716   76.488698      0.088945        0.093507    0.110340\n",
      "min        1.000000    1.000000      0.000000        0.000000   -1.000000\n",
      "25%      178.000000   58.000000      0.015998        0.069682    0.000000\n",
      "50%      677.500000  137.500000      0.061144        0.166870    0.000000\n",
      "75%     1159.000000  159.000000      0.104664        0.193154    0.000000\n",
      "max    11065.000000  819.000000      1.000000        1.000000    0.000000\n",
      "-------------\n",
      "Inliers\n",
      "             count     nunique  scaled_count  scaled_nunique  labels\n",
      "count   642.000000  642.000000    642.000000      642.000000   642.0\n",
      "mean    766.708723  113.127726      0.069207        0.137075     0.0\n",
      "std     666.744807   64.576135      0.060263        0.078944     0.0\n",
      "min       1.000000    1.000000      0.000000        0.000000     0.0\n",
      "25%     175.500000   58.000000      0.015772        0.069682     0.0\n",
      "50%     667.000000  136.500000      0.060195        0.165648     0.0\n",
      "75%    1145.000000  158.750000      0.103398        0.192848     0.0\n",
      "max    3403.000000  311.000000      0.307484        0.378973     0.0\n",
      "-------------\n",
      "Outliers\n",
      "              count     nunique  scaled_count  scaled_nunique  labels\n",
      "count      8.000000    8.000000      8.000000        8.000000     8.0\n",
      "mean    6421.000000  424.625000      0.580260        0.517879    -1.0\n",
      "std     3604.351576  225.919668      0.325773        0.276185     0.0\n",
      "min     1668.000000  181.000000      0.150669        0.220049    -1.0\n",
      "25%     4225.000000  281.000000      0.381779        0.342298    -1.0\n",
      "50%     5403.500000  362.500000      0.488295        0.441932    -1.0\n",
      "75%     9846.500000  516.500000      0.889868        0.630196    -1.0\n",
      "max    11065.000000  819.000000      1.000000        1.000000    -1.0\n"
     ]
    }
   ],
   "source": [
    "# Let's look at the descriptive stats for the entire population, the inliers, then the outliers/anomalies\n",
    "print(\"Population\")\n",
    "print(page_views.describe())\n",
    "print(\"-------------\")\n",
    "print(\"Inliers\")\n",
    "print(page_views[page_views.labels==0].describe())\n",
    "print(\"-------------\")\n",
    "print(\"Outliers\")\n",
    "print(page_views[page_views.labels==-1].describe())"
   ]
  },
  {
   "cell_type": "code",
   "execution_count": 14,
   "metadata": {},
   "outputs": [
    {
     "data": {
      "image/png": "[encoded data removed]",
      "text/plain": [
       "<Figure size 432x288 with 1 Axes>"
      ]
     },
     "metadata": {
      "needs_background": "light"
     },
     "output_type": "display_data"
    }
   ],
   "source": [
    "plt.scatter(page_views['count'], page_views['nunique'], c=page_views.labels)\n",
    "plt.show()"
   ]
  },
  {
   "cell_type": "markdown",
   "metadata": {},
   "source": [
    "### Can we see if there are any cohorts that look at pages more than the rest?"
   ]
  },
  {
   "cell_type": "code",
   "execution_count": 15,
   "metadata": {},
   "outputs": [],
   "source": [
    "view_by_cohort = logs.groupby(\"cohort\").destination.agg([\"count\", \"nunique\"])\n",
    "\n",
    "# Need to scale the data\n",
    "scaler = MinMaxScaler().fit(view_by_cohort)\n",
    "cohort_views_scaled_array = scaler.transform(view_by_cohort)\n",
    "\n",
    "# Now we model\n",
    "dbsc = DBSCAN(eps = .5, min_samples = 20).fit(cohort_views_scaled_array)\n",
    "\n",
    "scaled_data = pd.DataFrame(cohort_views_scaled_array, columns=[\"count_scaled\", \"nunique_scaled\"])\n",
    "\n",
    "view_by_cohort = view_by_cohort.reset_index()\n",
    "\n",
    "df = pd.concat([view_by_cohort, scaled_data], axis = 1)\n",
    "\n",
    "df[\"labels\"] = labels"
   ]
  },
  {
   "cell_type": "code",
   "execution_count": 35,
   "metadata": {
    "scrolled": true
   },
   "outputs": [
    {
     "data": {
      "text/plain": [
       "Text(0.5, 1.0, 'Do page visit vary by cohort?')"
      ]
     },
     "execution_count": 35,
     "metadata": {},
     "output_type": "execute_result"
    },
    {
     "data": {
      "image/png": "[encoded data removed]",
      "text/plain": [
       "<Figure size 1080x504 with 1 Axes>"
      ]
     },
     "metadata": {
      "needs_background": "light"
     },
     "output_type": "display_data"
    }
   ],
   "source": [
    "plt.figure(figsize=(15,7))\n",
    "sns.scatterplot(data=df, x=\"count\", y=\"nunique\", hue=\"labels\")\n",
    "plt.title(\"Do page visit vary by cohort?\")"
   ]
  },
  {
   "cell_type": "code",
   "execution_count": 28,
   "metadata": {
    "scrolled": true
   },
   "outputs": [
    {
     "data": {
      "text/html": [
       "<div>\n",
       "<style scoped>\n",
       "    .dataframe tbody tr th:only-of-type {\n",
       "        vertical-align: middle;\n",
       "    }\n",
       "\n",
       "    .dataframe tbody tr th {\n",
       "        vertical-align: top;\n",
       "    }\n",
       "\n",
       "    .dataframe thead th {\n",
       "        text-align: right;\n",
       "    }\n",
       "</style>\n",
       "<table border=\"1\" class=\"dataframe\">\n",
       "  <thead>\n",
       "    <tr style=\"text-align: right;\">\n",
       "      <th></th>\n",
       "      <th>cohort</th>\n",
       "      <th>count</th>\n",
       "      <th>nunique</th>\n",
       "      <th>count_scaled</th>\n",
       "      <th>nunique_scaled</th>\n",
       "      <th>labels</th>\n",
       "    </tr>\n",
       "  </thead>\n",
       "  <tbody>\n",
       "    <tr>\n",
       "      <th>24</th>\n",
       "      <td>28.0</td>\n",
       "      <td>37409</td>\n",
       "      <td>1086</td>\n",
       "      <td>0.962883</td>\n",
       "      <td>1.0</td>\n",
       "      <td>-1</td>\n",
       "    </tr>\n",
       "  </tbody>\n",
       "</table>\n",
       "</div>"
      ],
      "text/plain": [
       "    cohort  count  nunique  count_scaled  nunique_scaled  labels\n",
       "24    28.0  37409     1086      0.962883             1.0      -1"
      ]
     },
     "execution_count": 28,
     "metadata": {},
     "output_type": "execute_result"
    }
   ],
   "source": [
    "# Most likely I have identified the instructors\n",
    "df[df.labels == -1]"
   ]
  },
  {
   "cell_type": "markdown",
   "metadata": {},
   "source": [
    "### Can we find out cohorts that are newer based on clusters?"
   ]
  },
  {
   "cell_type": "code",
   "execution_count": 150,
   "metadata": {},
   "outputs": [],
   "source": [
    "logs = functions.wrangle_access_logs()\n",
    "\n",
    "view_by_cohort = logs.groupby(\"cohort\").destination.agg([\"count\", \"nunique\"])\n",
    "\n",
    "# Need to scale the data\n",
    "scaler = MinMaxScaler().fit(view_by_cohort)\n",
    "cohort_views_scaled_array = scaler.transform(view_by_cohort)\n",
    "\n",
    "# Now we model\n",
    "dbsc = DBSCAN(eps = .2, min_samples = 10).fit(cohort_views_scaled_array)\n",
    "\n",
    "scaled_data = pd.DataFrame(cohort_views_scaled_array, columns=[\"count_scaled\", \"nunique_scaled\"])\n",
    "\n",
    "\n",
    "view_by_cohort = view_by_cohort.reset_index()\n",
    "\n",
    "df = pd.concat([view_by_cohort, scaled_data], axis = 1)\n",
    "\n",
    "labels = dbsc.labels_\n",
    "\n",
    "df[\"labels\"] = labels"
   ]
  },
  {
   "cell_type": "code",
   "execution_count": 162,
   "metadata": {
    "scrolled": true
   },
   "outputs": [
    {
     "data": {
      "text/plain": [
       "Text(0.5, 1.0, 'Do page visit vary by cohort?')"
      ]
     },
     "execution_count": 162,
     "metadata": {},
     "output_type": "execute_result"
    },
    {
     "data": {
      "image/png": "[encoded data removed]",
      "text/plain": [
       "<Figure size 1080x504 with 1 Axes>"
      ]
     },
     "metadata": {
      "needs_background": "light"
     },
     "output_type": "display_data"
    }
   ],
   "source": [
    "plt.figure(figsize=(15,7))\n",
    "sns.scatterplot(data=df, x=\"count\", y=\"nunique\", hue=\"labels\")\n",
    "plt.title(\"Do page visit vary by cohort?\")"
   ]
  },
  {
   "cell_type": "code",
   "execution_count": 166,
   "metadata": {
    "scrolled": true
   },
   "outputs": [
    {
     "data": {
      "text/html": [
       "<div>\n",
       "<style scoped>\n",
       "    .dataframe tbody tr th:only-of-type {\n",
       "        vertical-align: middle;\n",
       "    }\n",
       "\n",
       "    .dataframe tbody tr th {\n",
       "        vertical-align: top;\n",
       "    }\n",
       "\n",
       "    .dataframe thead th {\n",
       "        text-align: right;\n",
       "    }\n",
       "</style>\n",
       "<table border=\"1\" class=\"dataframe\">\n",
       "  <thead>\n",
       "    <tr style=\"text-align: right;\">\n",
       "      <th></th>\n",
       "      <th>cohort</th>\n",
       "      <th>count</th>\n",
       "      <th>nunique</th>\n",
       "      <th>count_scaled</th>\n",
       "      <th>nunique_scaled</th>\n",
       "      <th>labels</th>\n",
       "    </tr>\n",
       "  </thead>\n",
       "  <tbody>\n",
       "    <tr>\n",
       "      <th>24</th>\n",
       "      <td>28.0</td>\n",
       "      <td>37409</td>\n",
       "      <td>1086</td>\n",
       "      <td>0.962883</td>\n",
       "      <td>1.000000</td>\n",
       "      <td>-1</td>\n",
       "    </tr>\n",
       "    <tr>\n",
       "      <th>28</th>\n",
       "      <td>33.0</td>\n",
       "      <td>38851</td>\n",
       "      <td>280</td>\n",
       "      <td>1.000000</td>\n",
       "      <td>0.257143</td>\n",
       "      <td>-1</td>\n",
       "    </tr>\n",
       "  </tbody>\n",
       "</table>\n",
       "</div>"
      ],
      "text/plain": [
       "    cohort  count  nunique  count_scaled  nunique_scaled  labels\n",
       "24    28.0  37409     1086      0.962883        1.000000      -1\n",
       "28    33.0  38851      280      1.000000        0.257143      -1"
      ]
     },
     "execution_count": 166,
     "metadata": {},
     "output_type": "execute_result"
    }
   ],
   "source": [
    "# Most likely the instructor cohorts\n",
    "df[df.labels == -1]"
   ]
  },
  {
   "cell_type": "code",
   "execution_count": 167,
   "metadata": {},
   "outputs": [
    {
     "data": {
      "text/html": [
       "<div>\n",
       "<style scoped>\n",
       "    .dataframe tbody tr th:only-of-type {\n",
       "        vertical-align: middle;\n",
       "    }\n",
       "\n",
       "    .dataframe tbody tr th {\n",
       "        vertical-align: top;\n",
       "    }\n",
       "\n",
       "    .dataframe thead th {\n",
       "        text-align: right;\n",
       "    }\n",
       "</style>\n",
       "<table border=\"1\" class=\"dataframe\">\n",
       "  <thead>\n",
       "    <tr style=\"text-align: right;\">\n",
       "      <th></th>\n",
       "      <th>cohort</th>\n",
       "      <th>count</th>\n",
       "      <th>nunique</th>\n",
       "      <th>count_scaled</th>\n",
       "      <th>nunique_scaled</th>\n",
       "      <th>labels</th>\n",
       "    </tr>\n",
       "  </thead>\n",
       "  <tbody>\n",
       "    <tr>\n",
       "      <th>0</th>\n",
       "      <td>1.0</td>\n",
       "      <td>8882</td>\n",
       "      <td>342</td>\n",
       "      <td>0.228597</td>\n",
       "      <td>0.314286</td>\n",
       "      <td>0</td>\n",
       "    </tr>\n",
       "    <tr>\n",
       "      <th>1</th>\n",
       "      <td>2.0</td>\n",
       "      <td>93</td>\n",
       "      <td>44</td>\n",
       "      <td>0.002368</td>\n",
       "      <td>0.039631</td>\n",
       "      <td>0</td>\n",
       "    </tr>\n",
       "    <tr>\n",
       "      <th>2</th>\n",
       "      <td>4.0</td>\n",
       "      <td>4</td>\n",
       "      <td>4</td>\n",
       "      <td>0.000077</td>\n",
       "      <td>0.002765</td>\n",
       "      <td>0</td>\n",
       "    </tr>\n",
       "    <tr>\n",
       "      <th>3</th>\n",
       "      <td>5.0</td>\n",
       "      <td>1</td>\n",
       "      <td>1</td>\n",
       "      <td>0.000000</td>\n",
       "      <td>0.000000</td>\n",
       "      <td>0</td>\n",
       "    </tr>\n",
       "    <tr>\n",
       "      <th>4</th>\n",
       "      <td>6.0</td>\n",
       "      <td>72</td>\n",
       "      <td>45</td>\n",
       "      <td>0.001828</td>\n",
       "      <td>0.040553</td>\n",
       "      <td>0</td>\n",
       "    </tr>\n",
       "    <tr>\n",
       "      <th>5</th>\n",
       "      <td>7.0</td>\n",
       "      <td>495</td>\n",
       "      <td>130</td>\n",
       "      <td>0.012716</td>\n",
       "      <td>0.118894</td>\n",
       "      <td>0</td>\n",
       "    </tr>\n",
       "    <tr>\n",
       "      <th>6</th>\n",
       "      <td>8.0</td>\n",
       "      <td>1712</td>\n",
       "      <td>278</td>\n",
       "      <td>0.044041</td>\n",
       "      <td>0.255300</td>\n",
       "      <td>0</td>\n",
       "    </tr>\n",
       "    <tr>\n",
       "      <th>7</th>\n",
       "      <td>9.0</td>\n",
       "      <td>5</td>\n",
       "      <td>4</td>\n",
       "      <td>0.000103</td>\n",
       "      <td>0.002765</td>\n",
       "      <td>0</td>\n",
       "    </tr>\n",
       "    <tr>\n",
       "      <th>8</th>\n",
       "      <td>11.0</td>\n",
       "      <td>204</td>\n",
       "      <td>76</td>\n",
       "      <td>0.005225</td>\n",
       "      <td>0.069124</td>\n",
       "      <td>0</td>\n",
       "    </tr>\n",
       "    <tr>\n",
       "      <th>9</th>\n",
       "      <td>12.0</td>\n",
       "      <td>270</td>\n",
       "      <td>109</td>\n",
       "      <td>0.006924</td>\n",
       "      <td>0.099539</td>\n",
       "      <td>0</td>\n",
       "    </tr>\n",
       "    <tr>\n",
       "      <th>10</th>\n",
       "      <td>13.0</td>\n",
       "      <td>2626</td>\n",
       "      <td>336</td>\n",
       "      <td>0.067568</td>\n",
       "      <td>0.308756</td>\n",
       "      <td>0</td>\n",
       "    </tr>\n",
       "    <tr>\n",
       "      <th>11</th>\n",
       "      <td>14.0</td>\n",
       "      <td>9374</td>\n",
       "      <td>471</td>\n",
       "      <td>0.241261</td>\n",
       "      <td>0.433180</td>\n",
       "      <td>0</td>\n",
       "    </tr>\n",
       "    <tr>\n",
       "      <th>12</th>\n",
       "      <td>15.0</td>\n",
       "      <td>691</td>\n",
       "      <td>232</td>\n",
       "      <td>0.017761</td>\n",
       "      <td>0.212903</td>\n",
       "      <td>0</td>\n",
       "    </tr>\n",
       "    <tr>\n",
       "      <th>13</th>\n",
       "      <td>16.0</td>\n",
       "      <td>743</td>\n",
       "      <td>134</td>\n",
       "      <td>0.019099</td>\n",
       "      <td>0.122581</td>\n",
       "      <td>0</td>\n",
       "    </tr>\n",
       "    <tr>\n",
       "      <th>14</th>\n",
       "      <td>17.0</td>\n",
       "      <td>4821</td>\n",
       "      <td>376</td>\n",
       "      <td>0.124067</td>\n",
       "      <td>0.345622</td>\n",
       "      <td>0</td>\n",
       "    </tr>\n",
       "    <tr>\n",
       "      <th>15</th>\n",
       "      <td>18.0</td>\n",
       "      <td>1641</td>\n",
       "      <td>289</td>\n",
       "      <td>0.042214</td>\n",
       "      <td>0.265438</td>\n",
       "      <td>0</td>\n",
       "    </tr>\n",
       "    <tr>\n",
       "      <th>16</th>\n",
       "      <td>19.0</td>\n",
       "      <td>1165</td>\n",
       "      <td>280</td>\n",
       "      <td>0.029961</td>\n",
       "      <td>0.257143</td>\n",
       "      <td>0</td>\n",
       "    </tr>\n",
       "    <tr>\n",
       "      <th>17</th>\n",
       "      <td>21.0</td>\n",
       "      <td>7411</td>\n",
       "      <td>312</td>\n",
       "      <td>0.190734</td>\n",
       "      <td>0.286636</td>\n",
       "      <td>0</td>\n",
       "    </tr>\n",
       "    <tr>\n",
       "      <th>33</th>\n",
       "      <td>55.0</td>\n",
       "      <td>14251</td>\n",
       "      <td>218</td>\n",
       "      <td>0.366795</td>\n",
       "      <td>0.200000</td>\n",
       "      <td>0</td>\n",
       "    </tr>\n",
       "    <tr>\n",
       "      <th>34</th>\n",
       "      <td>56.0</td>\n",
       "      <td>14438</td>\n",
       "      <td>219</td>\n",
       "      <td>0.371609</td>\n",
       "      <td>0.200922</td>\n",
       "      <td>0</td>\n",
       "    </tr>\n",
       "    <tr>\n",
       "      <th>35</th>\n",
       "      <td>57.0</td>\n",
       "      <td>9547</td>\n",
       "      <td>174</td>\n",
       "      <td>0.245714</td>\n",
       "      <td>0.159447</td>\n",
       "      <td>0</td>\n",
       "    </tr>\n",
       "  </tbody>\n",
       "</table>\n",
       "</div>"
      ],
      "text/plain": [
       "    cohort  count  nunique  count_scaled  nunique_scaled  labels\n",
       "0      1.0   8882      342      0.228597        0.314286       0\n",
       "1      2.0     93       44      0.002368        0.039631       0\n",
       "2      4.0      4        4      0.000077        0.002765       0\n",
       "3      5.0      1        1      0.000000        0.000000       0\n",
       "4      6.0     72       45      0.001828        0.040553       0\n",
       "5      7.0    495      130      0.012716        0.118894       0\n",
       "6      8.0   1712      278      0.044041        0.255300       0\n",
       "7      9.0      5        4      0.000103        0.002765       0\n",
       "8     11.0    204       76      0.005225        0.069124       0\n",
       "9     12.0    270      109      0.006924        0.099539       0\n",
       "10    13.0   2626      336      0.067568        0.308756       0\n",
       "11    14.0   9374      471      0.241261        0.433180       0\n",
       "12    15.0    691      232      0.017761        0.212903       0\n",
       "13    16.0    743      134      0.019099        0.122581       0\n",
       "14    17.0   4821      376      0.124067        0.345622       0\n",
       "15    18.0   1641      289      0.042214        0.265438       0\n",
       "16    19.0   1165      280      0.029961        0.257143       0\n",
       "17    21.0   7411      312      0.190734        0.286636       0\n",
       "33    55.0  14251      218      0.366795        0.200000       0\n",
       "34    56.0  14438      219      0.371609        0.200922       0\n",
       "35    57.0   9547      174      0.245714        0.159447       0"
      ]
     },
     "execution_count": 167,
     "metadata": {},
     "output_type": "execute_result"
    }
   ],
   "source": [
    "# Most likely the newer cohorts\n",
    "df[df.labels == 0]"
   ]
  },
  {
   "cell_type": "code",
   "execution_count": 169,
   "metadata": {},
   "outputs": [
    {
     "data": {
      "text/html": [
       "<div>\n",
       "<style scoped>\n",
       "    .dataframe tbody tr th:only-of-type {\n",
       "        vertical-align: middle;\n",
       "    }\n",
       "\n",
       "    .dataframe tbody tr th {\n",
       "        vertical-align: top;\n",
       "    }\n",
       "\n",
       "    .dataframe thead th {\n",
       "        text-align: right;\n",
       "    }\n",
       "</style>\n",
       "<table border=\"1\" class=\"dataframe\">\n",
       "  <thead>\n",
       "    <tr style=\"text-align: right;\">\n",
       "      <th></th>\n",
       "      <th>cohort</th>\n",
       "      <th>count</th>\n",
       "      <th>nunique</th>\n",
       "      <th>count_scaled</th>\n",
       "      <th>nunique_scaled</th>\n",
       "      <th>labels</th>\n",
       "    </tr>\n",
       "  </thead>\n",
       "  <tbody>\n",
       "    <tr>\n",
       "      <th>18</th>\n",
       "      <td>22.0</td>\n",
       "      <td>28997</td>\n",
       "      <td>500</td>\n",
       "      <td>0.746358</td>\n",
       "      <td>0.459908</td>\n",
       "      <td>1</td>\n",
       "    </tr>\n",
       "    <tr>\n",
       "      <th>19</th>\n",
       "      <td>23.0</td>\n",
       "      <td>28193</td>\n",
       "      <td>394</td>\n",
       "      <td>0.725663</td>\n",
       "      <td>0.362212</td>\n",
       "      <td>1</td>\n",
       "    </tr>\n",
       "    <tr>\n",
       "      <th>20</th>\n",
       "      <td>24.0</td>\n",
       "      <td>35336</td>\n",
       "      <td>371</td>\n",
       "      <td>0.909524</td>\n",
       "      <td>0.341014</td>\n",
       "      <td>1</td>\n",
       "    </tr>\n",
       "    <tr>\n",
       "      <th>21</th>\n",
       "      <td>25.0</td>\n",
       "      <td>25364</td>\n",
       "      <td>413</td>\n",
       "      <td>0.652844</td>\n",
       "      <td>0.379724</td>\n",
       "      <td>1</td>\n",
       "    </tr>\n",
       "    <tr>\n",
       "      <th>22</th>\n",
       "      <td>26.0</td>\n",
       "      <td>27586</td>\n",
       "      <td>280</td>\n",
       "      <td>0.710039</td>\n",
       "      <td>0.257143</td>\n",
       "      <td>1</td>\n",
       "    </tr>\n",
       "    <tr>\n",
       "      <th>23</th>\n",
       "      <td>27.0</td>\n",
       "      <td>20264</td>\n",
       "      <td>302</td>\n",
       "      <td>0.521570</td>\n",
       "      <td>0.277419</td>\n",
       "      <td>1</td>\n",
       "    </tr>\n",
       "    <tr>\n",
       "      <th>25</th>\n",
       "      <td>29.0</td>\n",
       "      <td>36613</td>\n",
       "      <td>303</td>\n",
       "      <td>0.942394</td>\n",
       "      <td>0.278341</td>\n",
       "      <td>1</td>\n",
       "    </tr>\n",
       "    <tr>\n",
       "      <th>26</th>\n",
       "      <td>31.0</td>\n",
       "      <td>24322</td>\n",
       "      <td>356</td>\n",
       "      <td>0.626023</td>\n",
       "      <td>0.327189</td>\n",
       "      <td>1</td>\n",
       "    </tr>\n",
       "    <tr>\n",
       "      <th>27</th>\n",
       "      <td>32.0</td>\n",
       "      <td>27920</td>\n",
       "      <td>324</td>\n",
       "      <td>0.718636</td>\n",
       "      <td>0.297696</td>\n",
       "      <td>1</td>\n",
       "    </tr>\n",
       "    <tr>\n",
       "      <th>29</th>\n",
       "      <td>34.0</td>\n",
       "      <td>23845</td>\n",
       "      <td>331</td>\n",
       "      <td>0.613745</td>\n",
       "      <td>0.304147</td>\n",
       "      <td>1</td>\n",
       "    </tr>\n",
       "    <tr>\n",
       "      <th>30</th>\n",
       "      <td>51.0</td>\n",
       "      <td>26389</td>\n",
       "      <td>245</td>\n",
       "      <td>0.679228</td>\n",
       "      <td>0.224885</td>\n",
       "      <td>1</td>\n",
       "    </tr>\n",
       "    <tr>\n",
       "      <th>31</th>\n",
       "      <td>52.0</td>\n",
       "      <td>26212</td>\n",
       "      <td>246</td>\n",
       "      <td>0.674672</td>\n",
       "      <td>0.225806</td>\n",
       "      <td>1</td>\n",
       "    </tr>\n",
       "    <tr>\n",
       "      <th>32</th>\n",
       "      <td>53.0</td>\n",
       "      <td>29992</td>\n",
       "      <td>227</td>\n",
       "      <td>0.771969</td>\n",
       "      <td>0.208295</td>\n",
       "      <td>1</td>\n",
       "    </tr>\n",
       "  </tbody>\n",
       "</table>\n",
       "</div>"
      ],
      "text/plain": [
       "    cohort  count  nunique  count_scaled  nunique_scaled  labels\n",
       "18    22.0  28997      500      0.746358        0.459908       1\n",
       "19    23.0  28193      394      0.725663        0.362212       1\n",
       "20    24.0  35336      371      0.909524        0.341014       1\n",
       "21    25.0  25364      413      0.652844        0.379724       1\n",
       "22    26.0  27586      280      0.710039        0.257143       1\n",
       "23    27.0  20264      302      0.521570        0.277419       1\n",
       "25    29.0  36613      303      0.942394        0.278341       1\n",
       "26    31.0  24322      356      0.626023        0.327189       1\n",
       "27    32.0  27920      324      0.718636        0.297696       1\n",
       "29    34.0  23845      331      0.613745        0.304147       1\n",
       "30    51.0  26389      245      0.679228        0.224885       1\n",
       "31    52.0  26212      246      0.674672        0.225806       1\n",
       "32    53.0  29992      227      0.771969        0.208295       1"
      ]
     },
     "execution_count": 169,
     "metadata": {},
     "output_type": "execute_result"
    }
   ],
   "source": [
    "# Most likely the older cohorts\n",
    "df[df.labels == 1]"
   ]
  },
  {
   "cell_type": "markdown",
   "metadata": {},
   "source": [
    "Overall - I don't think that we can use clustering to find the newer versus older cohorts, simply because there are a couple of outliers. For example, there are some cohorts that have very little users, which also have small access to the pages."
   ]
  },
  {
   "cell_type": "markdown",
   "metadata": {},
   "source": [
    "### Are there any anomalies in the number of pages visited in data science students?"
   ]
  },
  {
   "cell_type": "code",
   "execution_count": 194,
   "metadata": {},
   "outputs": [],
   "source": [
    "logs = functions.wrangle_access_logs()"
   ]
  },
  {
   "cell_type": "code",
   "execution_count": 195,
   "metadata": {},
   "outputs": [],
   "source": [
    "ds = logs[(logs.is_wd == 0) & (logs.is_ds == 1)]"
   ]
  },
  {
   "cell_type": "code",
   "execution_count": 196,
   "metadata": {
    "scrolled": false
   },
   "outputs": [],
   "source": [
    "ds_students = ds.groupby(\"user_id\").destination.agg([\"count\", \"nunique\"])"
   ]
  },
  {
   "cell_type": "code",
   "execution_count": 197,
   "metadata": {},
   "outputs": [],
   "source": [
    "# Need to scale the data\n",
    "scaler = MinMaxScaler().fit(ds_students)\n",
    "user_views_scaled_array = scaler.transform(ds_students)"
   ]
  },
  {
   "cell_type": "code",
   "execution_count": 198,
   "metadata": {},
   "outputs": [],
   "source": [
    "# Now we model\n",
    "dbsc = DBSCAN(eps = .2, min_samples = 10).fit(user_views_scaled_array)\n",
    "\n",
    "scaled_data = pd.DataFrame(user_views_scaled_array, columns=[\"count_scaled\", \"nunique_scaled\"])"
   ]
  },
  {
   "cell_type": "code",
   "execution_count": 200,
   "metadata": {},
   "outputs": [],
   "source": [
    "ds_students = ds_students.reset_index()"
   ]
  },
  {
   "cell_type": "code",
   "execution_count": 201,
   "metadata": {},
   "outputs": [
    {
     "data": {
      "text/plain": [
       "((54, 4), (54, 2))"
      ]
     },
     "execution_count": 201,
     "metadata": {},
     "output_type": "execute_result"
    }
   ],
   "source": [
    "ds_students.shape, scaled_data.shape"
   ]
  },
  {
   "cell_type": "code",
   "execution_count": 203,
   "metadata": {
    "scrolled": true
   },
   "outputs": [],
   "source": [
    "df = pd.concat([ds_students, scaled_data], axis = 1)"
   ]
  },
  {
   "cell_type": "code",
   "execution_count": 204,
   "metadata": {},
   "outputs": [],
   "source": [
    "labels = dbsc.labels_"
   ]
  },
  {
   "cell_type": "code",
   "execution_count": 205,
   "metadata": {},
   "outputs": [],
   "source": [
    "df[\"labels\"] = labels"
   ]
  },
  {
   "cell_type": "code",
   "execution_count": 207,
   "metadata": {},
   "outputs": [
    {
     "data": {
      "text/plain": [
       "Text(0.5, 1.0, 'Do page visit vary by data science students vary grately?')"
      ]
     },
     "execution_count": 207,
     "metadata": {},
     "output_type": "execute_result"
    },
    {
     "data": {
      "image/png": "[encoded data removed]",
      "text/plain": [
       "<Figure size 1080x504 with 1 Axes>"
      ]
     },
     "metadata": {
      "needs_background": "light"
     },
     "output_type": "display_data"
    }
   ],
   "source": [
    "plt.figure(figsize=(15,7))\n",
    "sns.scatterplot(data=df, x=\"count\", y=\"nunique\", hue=\"labels\")\n",
    "plt.title(\"Do page visit vary by data science students vary grately?\")"
   ]
  },
  {
   "cell_type": "code",
   "execution_count": 208,
   "metadata": {},
   "outputs": [
    {
     "data": {
      "text/html": [
       "<div>\n",
       "<style scoped>\n",
       "    .dataframe tbody tr th:only-of-type {\n",
       "        vertical-align: middle;\n",
       "    }\n",
       "\n",
       "    .dataframe tbody tr th {\n",
       "        vertical-align: top;\n",
       "    }\n",
       "\n",
       "    .dataframe thead th {\n",
       "        text-align: right;\n",
       "    }\n",
       "</style>\n",
       "<table border=\"1\" class=\"dataframe\">\n",
       "  <thead>\n",
       "    <tr style=\"text-align: right;\">\n",
       "      <th></th>\n",
       "      <th>index</th>\n",
       "      <th>user_id</th>\n",
       "      <th>count</th>\n",
       "      <th>nunique</th>\n",
       "      <th>count_scaled</th>\n",
       "      <th>nunique_scaled</th>\n",
       "      <th>labels</th>\n",
       "    </tr>\n",
       "  </thead>\n",
       "  <tbody>\n",
       "    <tr>\n",
       "      <th>2</th>\n",
       "      <td>2</td>\n",
       "      <td>248</td>\n",
       "      <td>2815</td>\n",
       "      <td>456</td>\n",
       "      <td>0.970670</td>\n",
       "      <td>1.000000</td>\n",
       "      <td>-1</td>\n",
       "    </tr>\n",
       "    <tr>\n",
       "      <th>5</th>\n",
       "      <td>5</td>\n",
       "      <td>354</td>\n",
       "      <td>2899</td>\n",
       "      <td>281</td>\n",
       "      <td>1.000000</td>\n",
       "      <td>0.608501</td>\n",
       "      <td>-1</td>\n",
       "    </tr>\n",
       "    <tr>\n",
       "      <th>7</th>\n",
       "      <td>7</td>\n",
       "      <td>363</td>\n",
       "      <td>2248</td>\n",
       "      <td>289</td>\n",
       "      <td>0.772696</td>\n",
       "      <td>0.626398</td>\n",
       "      <td>-1</td>\n",
       "    </tr>\n",
       "    <tr>\n",
       "      <th>9</th>\n",
       "      <td>9</td>\n",
       "      <td>368</td>\n",
       "      <td>2085</td>\n",
       "      <td>294</td>\n",
       "      <td>0.715782</td>\n",
       "      <td>0.637584</td>\n",
       "      <td>-1</td>\n",
       "    </tr>\n",
       "    <tr>\n",
       "      <th>12</th>\n",
       "      <td>12</td>\n",
       "      <td>404</td>\n",
       "      <td>1668</td>\n",
       "      <td>352</td>\n",
       "      <td>0.570182</td>\n",
       "      <td>0.767338</td>\n",
       "      <td>-1</td>\n",
       "    </tr>\n",
       "  </tbody>\n",
       "</table>\n",
       "</div>"
      ],
      "text/plain": [
       "    index  user_id  count  nunique  count_scaled  nunique_scaled  labels\n",
       "2       2      248   2815      456      0.970670        1.000000      -1\n",
       "5       5      354   2899      281      1.000000        0.608501      -1\n",
       "7       7      363   2248      289      0.772696        0.626398      -1\n",
       "9       9      368   2085      294      0.715782        0.637584      -1\n",
       "12     12      404   1668      352      0.570182        0.767338      -1"
      ]
     },
     "execution_count": 208,
     "metadata": {},
     "output_type": "execute_result"
    }
   ],
   "source": [
    "df[df.labels == -1]"
   ]
  },
  {
   "cell_type": "markdown",
   "metadata": {},
   "source": [
    "It doesn't look like we have a lot of instructors in the outlier group!"
   ]
  }
 ],
 "metadata": {
  "kernelspec": {
   "display_name": "Python 3",
   "language": "python",
   "name": "python3"
  },
  "language_info": {
   "codemirror_mode": {
    "name": "ipython",
    "version": 3
   },
   "file_extension": ".py",
   "mimetype": "text/x-python",
   "name": "python",
   "nbconvert_exporter": "python",
   "pygments_lexer": "ipython3",
   "version": "3.7.4"
  }
 },
 "nbformat": 4,
 "nbformat_minor": 2
}
